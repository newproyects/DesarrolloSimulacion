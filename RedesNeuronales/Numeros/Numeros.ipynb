{
 "cells": [
  {
   "cell_type": "markdown",
   "id": "e0b6b9c6",
   "metadata": {},
   "source": [
    "# Angel Fernando García Núñez\n",
    "# Clasificación de trazos de numeros"
   ]
  },
  {
   "cell_type": "markdown",
   "id": "97304035",
   "metadata": {},
   "source": [
    "## Modulos"
   ]
  },
  {
   "cell_type": "markdown",
   "id": "f622d735",
   "metadata": {},
   "source": [
    "Importando PyTorch para calculo tensorial, NumPy para algebra lineal y Matplotlib para graficar"
   ]
  },
  {
   "cell_type": "code",
   "execution_count": 135,
   "id": "51ecf281",
   "metadata": {},
   "outputs": [],
   "source": [
    "import torch\n",
    "import numpy as np\n",
    "import matplotlib.pyplot as plt"
   ]
  },
  {
   "cell_type": "markdown",
   "id": "ab3b5faa",
   "metadata": {},
   "source": [
    "## Dataset"
   ]
  },
  {
   "cell_type": "markdown",
   "id": "fac27f1c",
   "metadata": {},
   "source": [
    "Importando dataset de scikit-learn"
   ]
  },
  {
   "cell_type": "code",
   "execution_count": 136,
   "id": "816169f1",
   "metadata": {},
   "outputs": [],
   "source": [
    "from sklearn.datasets import fetch_openml\n",
    "\n",
    "mnist=fetch_openml('mnist_784',version=1,parser='auto')\n",
    "x,y=mnist['data'],mnist['target']"
   ]
  },
  {
   "cell_type": "markdown",
   "id": "b674340b",
   "metadata": {},
   "source": [
    "Función para graficar 15 imagenes random del Dataset y sus etiquetas asignadas"
   ]
  },
  {
   "cell_type": "code",
   "execution_count": 137,
   "id": "abb01905",
   "metadata": {},
   "outputs": [],
   "source": [
    "import random\n",
    "\n",
    "def plotTest(xx,yy,loc):\n",
    "    r,c=3,5\n",
    "    fig=plt.figure(figsize=(2*c,2*r))\n",
    "    for _r in range(r):\n",
    "        for _c in range(c):\n",
    "            plt.subplot(r,c,_r*c+_c+1)\n",
    "            ix=random.randint(0,len(xx)-1)\n",
    "            img=xx.loc[ix+loc]\n",
    "            plt.imshow(img.values.reshape(28,28),cmap='gray')\n",
    "            plt.axis(\"off\")\n",
    "            plt.title(yy[ix])\n",
    "    plt.tight_layout()\n",
    "    plt.show()"
   ]
  },
  {
   "cell_type": "code",
   "execution_count": 138,
   "id": "da61a0fe",
   "metadata": {},
   "outputs": [
    {
     "data": {
      "image/png": "[encoded data removed]",
      "text/plain": [
       "<Figure size 720x432 with 15 Axes>"
      ]
     },
     "metadata": {
      "needs_background": "light"
     },
     "output_type": "display_data"
    }
   ],
   "source": [
    "plotTest(x,y,0)"
   ]
  },
  {
   "cell_type": "markdown",
   "id": "d05b2a99",
   "metadata": {},
   "source": [
    "## Datos de entrenamiento"
   ]
  },
  {
   "cell_type": "markdown",
   "id": "08fdbfb1",
   "metadata": {},
   "source": [
    "Extracción y normalización de los datos de entrenamiento"
   ]
  },
  {
   "cell_type": "code",
   "execution_count": 139,
   "id": "16bdf574",
   "metadata": {},
   "outputs": [],
   "source": [
    "xt=np.array(x[:60000]/255.)\n",
    "yt=np.array(y[:60000].astype(np.compat.long))"
   ]
  },
  {
   "cell_type": "code",
   "execution_count": 140,
   "id": "a4e83154",
   "metadata": {},
   "outputs": [],
   "source": [
    "xt=torch.from_numpy(np.array(xt)).float()\n",
    "yt=torch.from_numpy(np.array(yt)).long()"
   ]
  },
  {
   "cell_type": "markdown",
   "id": "4b41dd93",
   "metadata": {},
   "source": [
    "# Implementación con calculo tensorial"
   ]
  },
  {
   "cell_type": "markdown",
   "id": "b0d84321",
   "metadata": {},
   "source": [
    "Modelación e implementación de la red neuronal con calculo tensorial"
   ]
  },
  {
   "cell_type": "markdown",
   "id": "a7af74be",
   "metadata": {},
   "source": [
    "## Modelo"
   ]
  },
  {
   "cell_type": "markdown",
   "id": "48fd4e40",
   "metadata": {},
   "source": [
    "Definición de las capas del modelo"
   ]
  },
  {
   "cell_type": "code",
   "execution_count": 141,
   "id": "8f780e22",
   "metadata": {},
   "outputs": [],
   "source": [
    "d0,d1,d2=784,100,10\n",
    "\n",
    "w1=torch.tensor(\n",
    "    np.random.normal(loc=0.0,scale=np.sqrt(2/(d0+d1)),size=(d0,d1)),\n",
    "    requires_grad=True,dtype=torch.float)\n",
    "\n",
    "b1=torch.zeros(d1,requires_grad=True,dtype=torch.float)\n",
    "\n",
    "w2=torch.tensor(\n",
    "    np.random.normal(loc=0.0,scale=np.sqrt(2/(d1+d2)),size=(d1,d2)),\n",
    "    requires_grad=True,dtype=torch.float)\n",
    "\n",
    "b2=torch.zeros(d2,requires_grad=True,dtype=torch.float)"
   ]
  },
  {
   "cell_type": "markdown",
   "id": "9d49350f",
   "metadata": {},
   "source": [
    "## Funciones de optimización y de error"
   ]
  },
  {
   "cell_type": "code",
   "execution_count": 142,
   "id": "6587ee7f",
   "metadata": {},
   "outputs": [],
   "source": [
    "def softmax(t):\n",
    "    return torch.exp(t)/torch.exp(t).sum(axis=-1,keepdims=True)\n",
    "\n",
    "def cross_entropy(out,tag):\n",
    "    logs=out[torch.arange(len(out)),tag]\n",
    "    loss=-logs+torch.log(torch.sum(torch.exp(out),axis=-1))\n",
    "    return loss.mean()"
   ]
  },
  {
   "cell_type": "markdown",
   "id": "ac9210f2",
   "metadata": {},
   "source": [
    "## Evaluación del modelo"
   ]
  },
  {
   "cell_type": "code",
   "execution_count": 143,
   "id": "2b4f7fe7",
   "metadata": {},
   "outputs": [],
   "source": [
    "def evaluate(t):\n",
    "    h=t.mm(w1)+b1\n",
    "    h_relu=h.clamp(min=0)\n",
    "    yp=h_relu.mm(w2)+b2\n",
    "    return yp\n",
    "\n",
    "def prediction(t):\n",
    "    yp=evaluate(t)\n",
    "    return torch.argmax(yp,axis=1)"
   ]
  },
  {
   "cell_type": "markdown",
   "id": "7adec8fe",
   "metadata": {},
   "source": [
    "## Entrenamiento"
   ]
  },
  {
   "cell_type": "code",
   "execution_count": 144,
   "id": "44a7713b",
   "metadata": {},
   "outputs": [
    {
     "name": "stdout",
     "output_type": "stream",
     "text": [
      "Iteracion: 10/100, Error: 1.11215\n",
      "Iteracion: 20/100, Error: 0.67874\n",
      "Iteracion: 30/100, Error: 0.38903\n",
      "Iteracion: 40/100, Error: 0.35053\n",
      "Iteracion: 50/100, Error: 0.30994\n",
      "Iteracion: 60/100, Error: 0.33297\n",
      "Iteracion: 70/100, Error: 0.26636\n",
      "Iteracion: 80/100, Error: 0.25102\n",
      "Iteracion: 90/100, Error: 0.23894\n",
      "Iteracion: 100/100, Error: 0.22853\n"
     ]
    }
   ],
   "source": [
    "ap=0.8\n",
    "\n",
    "l=[]\n",
    "ep=100\n",
    "for e in range(1,ep+1):\n",
    "    yp=evaluate(xt)\n",
    "    \n",
    "    loss=cross_entropy(yp,yt)\n",
    "    l.append(loss.item())\n",
    "    \n",
    "    loss.backward()\n",
    "    \n",
    "    with torch.no_grad():\n",
    "        w1-=ap*w1.grad\n",
    "        b1-=ap*b1.grad\n",
    "        w2-=ap*w2.grad\n",
    "        b2-=ap*b2.grad\n",
    "        \n",
    "        w1.grad.zero_()\n",
    "        w2.grad.zero_()\n",
    "        b1.grad.zero_()\n",
    "        b2.grad.zero_()\n",
    "        \n",
    "    if not e%10:\n",
    "        print(f'Iteracion: {e}/{ep}, Error: {loss:.5f}')\n",
    "    "
   ]
  },
  {
   "cell_type": "markdown",
   "id": "a8ffd6ce",
   "metadata": {},
   "source": [
    "## Minimización del error"
   ]
  },
  {
   "cell_type": "code",
   "execution_count": 145,
   "id": "bfda779f",
   "metadata": {
    "scrolled": true
   },
   "outputs": [
    {
     "data": {
      "image/png": "[encoded data removed]",
      "text/plain": [
       "<Figure size 432x288 with 1 Axes>"
      ]
     },
     "metadata": {
      "needs_background": "light"
     },
     "output_type": "display_data"
    }
   ],
   "source": [
    "plt.plot(l)\n",
    "plt.title('Error')\n",
    "plt.xlabel('Iteraciones')\n",
    "plt.show()"
   ]
  },
  {
   "cell_type": "markdown",
   "id": "c12fe627",
   "metadata": {},
   "source": [
    "## Datos de prueba"
   ]
  },
  {
   "cell_type": "markdown",
   "id": "bffa1e08",
   "metadata": {},
   "source": [
    "Extracción y normalización de los datos de prueba"
   ]
  },
  {
   "cell_type": "code",
   "execution_count": 146,
   "id": "0aac53d3",
   "metadata": {},
   "outputs": [],
   "source": [
    "xtest=np.array(x[60000:]/255.)\n",
    "ytest=np.array(y[60000:].astype(np.compat.long))"
   ]
  },
  {
   "cell_type": "code",
   "execution_count": 147,
   "id": "d50a8bbf",
   "metadata": {},
   "outputs": [],
   "source": [
    "xtest=torch.from_numpy(np.array(xtest)).float()\n",
    "ytest=torch.from_numpy(np.array(ytest)).long()"
   ]
  },
  {
   "cell_type": "markdown",
   "id": "07849428",
   "metadata": {},
   "source": [
    "## Predicción"
   ]
  },
  {
   "cell_type": "markdown",
   "id": "15f498cf",
   "metadata": {},
   "source": [
    "Predicción del modelo en los datos de prueba"
   ]
  },
  {
   "cell_type": "code",
   "execution_count": 148,
   "id": "651a0e0e",
   "metadata": {},
   "outputs": [],
   "source": [
    "yp=prediction(xtest)"
   ]
  },
  {
   "cell_type": "markdown",
   "id": "cebd85c1",
   "metadata": {},
   "source": [
    "## Exactitud del modelo"
   ]
  },
  {
   "cell_type": "code",
   "execution_count": 149,
   "id": "9ca08d43",
   "metadata": {},
   "outputs": [
    {
     "name": "stdout",
     "output_type": "stream",
     "text": [
      "Exactitud: 0.938 : 93.80%\n"
     ]
    }
   ],
   "source": [
    "from sklearn.metrics import accuracy_score\n",
    "\n",
    "ex=accuracy_score(ytest,yp)\n",
    "print(f'Exactitud: {ex} : {ex*100:.2f}%')"
   ]
  },
  {
   "cell_type": "markdown",
   "id": "dd0ca8ec",
   "metadata": {},
   "source": [
    "## Clasificación"
   ]
  },
  {
   "cell_type": "markdown",
   "id": "a6d85d3d",
   "metadata": {},
   "source": [
    "Clasificación de los datos de prueba con el modelo"
   ]
  },
  {
   "cell_type": "code",
   "execution_count": 151,
   "id": "89205d65",
   "metadata": {
    "scrolled": false
   },
   "outputs": [
    {
     "data": {
      "image/png": "[encoded data removed]",
      "text/plain": [
       "<Figure size 720x432 with 15 Axes>"
      ]
     },
     "metadata": {
      "needs_background": "light"
     },
     "output_type": "display_data"
    }
   ],
   "source": [
    "xtest=x[60000:]\n",
    "plotTest(xtest,yp,60000)"
   ]
  },
  {
   "cell_type": "markdown",
   "id": "00e56074",
   "metadata": {},
   "source": [
    "# Implementación de forma explicita"
   ]
  },
  {
   "cell_type": "markdown",
   "id": "ec3cebf6",
   "metadata": {},
   "source": [
    "Modelación e implementación de las capas de la red neuronal de forma explicita por medio del paquete torch.nn"
   ]
  },
  {
   "cell_type": "markdown",
   "id": "04d7b2f2",
   "metadata": {},
   "source": [
    "## Modelo"
   ]
  },
  {
   "cell_type": "markdown",
   "id": "f50d497e",
   "metadata": {},
   "source": [
    "Definición de las capas del modelo"
   ]
  },
  {
   "cell_type": "code",
   "execution_count": 152,
   "id": "483f6cf4",
   "metadata": {},
   "outputs": [],
   "source": [
    "d0,d1,d2=784,100,10\n",
    "\n",
    "model=torch.nn.Sequential(\n",
    "    torch.nn.Linear(d0,d1),\n",
    "    torch.nn.ReLU(),\n",
    "    torch.nn.Linear(d1,d2),\n",
    "    torch.nn.ReLU())"
   ]
  },
  {
   "cell_type": "markdown",
   "id": "81b6d126",
   "metadata": {},
   "source": [
    "## Entrenamiento"
   ]
  },
  {
   "cell_type": "code",
   "execution_count": 153,
   "id": "fbe6d8aa",
   "metadata": {},
   "outputs": [
    {
     "name": "stdout",
     "output_type": "stream",
     "text": [
      "Iteracion: 10/100, Error: 1.91569\n",
      "Iteracion: 20/100, Error: 1.00217\n",
      "Iteracion: 30/100, Error: 0.60458\n",
      "Iteracion: 40/100, Error: 0.46731\n",
      "Iteracion: 50/100, Error: 0.37078\n",
      "Iteracion: 60/100, Error: 0.37310\n",
      "Iteracion: 70/100, Error: 0.30261\n",
      "Iteracion: 80/100, Error: 0.28120\n",
      "Iteracion: 90/100, Error: 0.26660\n",
      "Iteracion: 100/100, Error: 0.25426\n"
     ]
    }
   ],
   "source": [
    "model.train()\n",
    "\n",
    "ap=0.8\n",
    "\n",
    "l=[]\n",
    "ep=100\n",
    "for e in range(1,ep+1):\n",
    "    yp=model(xt)\n",
    "    \n",
    "    loss=cross_entropy(yp,yt)\n",
    "    l.append(loss.item())\n",
    "    \n",
    "    model.zero_grad()\n",
    "    \n",
    "    loss.backward()\n",
    "    \n",
    "    with torch.no_grad():\n",
    "        for p in model.parameters():\n",
    "            p-=ap*p.grad\n",
    "        \n",
    "    if not e%10:\n",
    "        print(f'Iteracion: {e}/{ep}, Error: {loss:.5f}')\n",
    "    "
   ]
  },
  {
   "cell_type": "markdown",
   "id": "efcf7991",
   "metadata": {},
   "source": [
    "## Minimización del error"
   ]
  },
  {
   "cell_type": "code",
   "execution_count": 154,
   "id": "0dbc0407",
   "metadata": {
    "scrolled": false
   },
   "outputs": [
    {
     "data": {
      "image/png": "[encoded data removed]",
      "text/plain": [
       "<Figure size 432x288 with 1 Axes>"
      ]
     },
     "metadata": {
      "needs_background": "light"
     },
     "output_type": "display_data"
    }
   ],
   "source": [
    "plt.plot(l)\n",
    "plt.title('Error')\n",
    "plt.xlabel('Iteraciones')\n",
    "plt.show()"
   ]
  },
  {
   "cell_type": "markdown",
   "id": "5ee27776",
   "metadata": {},
   "source": [
    "## Datos de prueba"
   ]
  },
  {
   "cell_type": "markdown",
   "id": "5b877328",
   "metadata": {},
   "source": [
    "Extracción y normalización de los datos de prueba"
   ]
  },
  {
   "cell_type": "code",
   "execution_count": 155,
   "id": "6cd6e7c0",
   "metadata": {},
   "outputs": [],
   "source": [
    "xtest=np.array(x[60000:]/255.)\n",
    "ytest=np.array(y[60000:].astype(np.compat.long))"
   ]
  },
  {
   "cell_type": "code",
   "execution_count": 156,
   "id": "c97c80b3",
   "metadata": {},
   "outputs": [],
   "source": [
    "xtest=torch.from_numpy(np.array(xtest)).float()\n",
    "ytest=torch.from_numpy(np.array(ytest)).long()"
   ]
  },
  {
   "cell_type": "markdown",
   "id": "853e2422",
   "metadata": {},
   "source": [
    "## Predicción"
   ]
  },
  {
   "cell_type": "markdown",
   "id": "b7c17119",
   "metadata": {},
   "source": [
    "Predicción del modelo en los datos de prueba"
   ]
  },
  {
   "cell_type": "code",
   "execution_count": 157,
   "id": "ec091515",
   "metadata": {},
   "outputs": [],
   "source": [
    "model.eval()\n",
    "yp=softmax(model(xtest))\n",
    "yp=torch.argmax(yp,axis=1)"
   ]
  },
  {
   "cell_type": "markdown",
   "id": "7771a3c7",
   "metadata": {},
   "source": [
    "## Exactitud del modelo"
   ]
  },
  {
   "cell_type": "code",
   "execution_count": 158,
   "id": "3b181126",
   "metadata": {},
   "outputs": [
    {
     "name": "stdout",
     "output_type": "stream",
     "text": [
      "Exactitud: 0.9288 : 92.88%\n"
     ]
    }
   ],
   "source": [
    "from sklearn.metrics import accuracy_score\n",
    "\n",
    "ex=accuracy_score(ytest,yp)\n",
    "print(f'Exactitud: {ex} : {ex*100:.2f}%')"
   ]
  },
  {
   "cell_type": "markdown",
   "id": "3320b633",
   "metadata": {},
   "source": [
    "## Clasificación"
   ]
  },
  {
   "cell_type": "markdown",
   "id": "3e4dec97",
   "metadata": {},
   "source": [
    "Clasificación de los datos de prueba con el modelo"
   ]
  },
  {
   "cell_type": "code",
   "execution_count": 159,
   "id": "8d882f6b",
   "metadata": {
    "scrolled": true
   },
   "outputs": [
    {
     "data": {
      "image/png": "[encoded data removed]",
      "text/plain": [
       "<Figure size 720x432 with 15 Axes>"
      ]
     },
     "metadata": {
      "needs_background": "light"
     },
     "output_type": "display_data"
    }
   ],
   "source": [
    "xtest=x[60000:]\n",
    "plotTest(xtest,yp,60000)"
   ]
  },
  {
   "cell_type": "markdown",
   "id": "62135c79",
   "metadata": {},
   "source": [
    "# Implementación de optimización explicita"
   ]
  },
  {
   "cell_type": "markdown",
   "id": "652f089c",
   "metadata": {},
   "source": [
    "Modelación e implementación de las capas de la red neuronal y funciones de optimización de forma explicita por medio del paquete torch.nn"
   ]
  },
  {
   "cell_type": "markdown",
   "id": "9943b056",
   "metadata": {},
   "source": [
    "## Modelo"
   ]
  },
  {
   "cell_type": "markdown",
   "id": "0a502ead",
   "metadata": {},
   "source": [
    "Definición de las capas del modelo"
   ]
  },
  {
   "cell_type": "code",
   "execution_count": 187,
   "id": "6f3e3d4b",
   "metadata": {},
   "outputs": [],
   "source": [
    "d0,d1,d2=784,100,10\n",
    "\n",
    "model=torch.nn.Sequential(\n",
    "    torch.nn.Linear(d0,d1),\n",
    "    torch.nn.ReLU(),\n",
    "    torch.nn.Linear(d1,d2),\n",
    "    torch.nn.ReLU())"
   ]
  },
  {
   "cell_type": "markdown",
   "id": "eaa8eb4c",
   "metadata": {},
   "source": [
    "## Funciones de optimización y de error"
   ]
  },
  {
   "cell_type": "code",
   "execution_count": 188,
   "id": "eddddd96",
   "metadata": {},
   "outputs": [],
   "source": [
    "criterion=torch.nn.CrossEntropyLoss()\n",
    "optimizer=torch.optim.SGD(model.parameters(),lr=0.8)"
   ]
  },
  {
   "cell_type": "markdown",
   "id": "101b42c6",
   "metadata": {},
   "source": [
    "## Entrenamiento"
   ]
  },
  {
   "cell_type": "code",
   "execution_count": 189,
   "id": "79febe0f",
   "metadata": {},
   "outputs": [
    {
     "name": "stdout",
     "output_type": "stream",
     "text": [
      "Iteracion: 10/100, Error: 1.46339\n",
      "Iteracion: 20/100, Error: 0.93687\n",
      "Iteracion: 30/100, Error: 0.46783\n",
      "Iteracion: 40/100, Error: 0.39603\n",
      "Iteracion: 50/100, Error: 0.45032\n",
      "Iteracion: 60/100, Error: 0.31404\n",
      "Iteracion: 70/100, Error: 0.29432\n",
      "Iteracion: 80/100, Error: 0.29478\n",
      "Iteracion: 90/100, Error: 0.27366\n",
      "Iteracion: 100/100, Error: 0.25083\n"
     ]
    }
   ],
   "source": [
    "model.train()\n",
    "\n",
    "l=[]\n",
    "ep=100\n",
    "for e in range(1,ep+1):\n",
    "    yp=model(xt)\n",
    "    \n",
    "    loss=criterion(yp,yt)\n",
    "    l.append(loss.item())\n",
    "    \n",
    "    optimizer.zero_grad()\n",
    "    \n",
    "    loss.backward()\n",
    "    \n",
    "    optimizer.step()\n",
    "        \n",
    "    if not e%10:\n",
    "        print(f'Iteracion: {e}/{ep}, Error: {loss:.5f}')\n",
    "    "
   ]
  },
  {
   "cell_type": "markdown",
   "id": "f70b35dc",
   "metadata": {},
   "source": [
    "## Minimización del error"
   ]
  },
  {
   "cell_type": "code",
   "execution_count": 190,
   "id": "d30db037",
   "metadata": {
    "scrolled": false
   },
   "outputs": [
    {
     "data": {
      "image/png": "[encoded data removed]",
      "text/plain": [
       "<Figure size 432x288 with 1 Axes>"
      ]
     },
     "metadata": {
      "needs_background": "light"
     },
     "output_type": "display_data"
    }
   ],
   "source": [
    "plt.plot(l)\n",
    "plt.title('Error')\n",
    "plt.xlabel('Iteraciones')\n",
    "plt.show()"
   ]
  },
  {
   "cell_type": "markdown",
   "id": "173f4e38",
   "metadata": {},
   "source": [
    "## Datos de prueba"
   ]
  },
  {
   "cell_type": "markdown",
   "id": "9005e23a",
   "metadata": {},
   "source": [
    "Extracción y normalización de los datos de prueba"
   ]
  },
  {
   "cell_type": "code",
   "execution_count": 191,
   "id": "b2edce49",
   "metadata": {},
   "outputs": [],
   "source": [
    "xtest=np.array(x[60000:]/255.)\n",
    "ytest=np.array(y[60000:].astype(np.compat.long))"
   ]
  },
  {
   "cell_type": "code",
   "execution_count": 192,
   "id": "f73a7573",
   "metadata": {},
   "outputs": [],
   "source": [
    "xtest=torch.from_numpy(np.array(xtest)).float()\n",
    "ytest=torch.from_numpy(np.array(ytest)).long()"
   ]
  },
  {
   "cell_type": "markdown",
   "id": "03e96745",
   "metadata": {},
   "source": [
    "## Predicción"
   ]
  },
  {
   "cell_type": "markdown",
   "id": "25f77067",
   "metadata": {},
   "source": [
    "Predicción del modelo en los datos de prueba"
   ]
  },
  {
   "cell_type": "code",
   "execution_count": 193,
   "id": "5e14a7ed",
   "metadata": {},
   "outputs": [],
   "source": [
    "model.eval()\n",
    "yp=softmax(model(xtest))\n",
    "yp=torch.argmax(yp,axis=1)"
   ]
  },
  {
   "cell_type": "markdown",
   "id": "f42b8f60",
   "metadata": {},
   "source": [
    "## Exactitud del modelo"
   ]
  },
  {
   "cell_type": "code",
   "execution_count": 194,
   "id": "a2c863fc",
   "metadata": {},
   "outputs": [
    {
     "name": "stdout",
     "output_type": "stream",
     "text": [
      "Exactitud: 0.9307 : 93.07%\n"
     ]
    }
   ],
   "source": [
    "from sklearn.metrics import accuracy_score\n",
    "\n",
    "ex=accuracy_score(ytest,yp)\n",
    "print(f'Exactitud: {ex} : {ex*100:.2f}%')"
   ]
  },
  {
   "cell_type": "markdown",
   "id": "38eb48f0",
   "metadata": {},
   "source": [
    "## Clasificación"
   ]
  },
  {
   "cell_type": "markdown",
   "id": "a7d68fe5",
   "metadata": {},
   "source": [
    "Clasificación de los datos de prueba con el modelo"
   ]
  },
  {
   "cell_type": "code",
   "execution_count": 196,
   "id": "7022d383",
   "metadata": {
    "scrolled": true
   },
   "outputs": [
    {
     "data": {
      "image/png": "[encoded data removed]",
      "text/plain": [
       "<Figure size 720x432 with 15 Axes>"
      ]
     },
     "metadata": {
      "needs_background": "light"
     },
     "output_type": "display_data"
    }
   ],
   "source": [
    "xtest=x[60000:]\n",
    "plotTest(xtest,yp,60000)"
   ]
  },
  {
   "cell_type": "code",
   "execution_count": null,
   "id": "3d747ffd",
   "metadata": {},
   "outputs": [],
   "source": []
  }
 ],
 "metadata": {
  "kernelspec": {
   "display_name": "Python 3 (ipykernel)",
   "language": "python",
   "name": "python3"
  },
  "language_info": {
   "codemirror_mode": {
    "name": "ipython",
    "version": 3
   },
   "file_extension": ".py",
   "mimetype": "text/x-python",
   "name": "python",
   "nbconvert_exporter": "python",
   "pygments_lexer": "ipython3",
   "version": "3.9.2"
  }
 },
 "nbformat": 4,
 "nbformat_minor": 5
}
